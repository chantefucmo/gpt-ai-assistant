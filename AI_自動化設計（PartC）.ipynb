{
  "nbformat": 4,
  "nbformat_minor": 0,
  "metadata": {
    "colab": {
      "provenance": [],
      "include_colab_link": true
    },
    "kernelspec": {
      "name": "python3",
      "display_name": "Python 3"
    },
    "language_info": {
      "name": "python"
    }
  },
  "cells": [
    {
      "cell_type": "markdown",
      "metadata": {
        "id": "view-in-github",
        "colab_type": "text"
      },
      "source": [
        "<a href=\"https://colab.research.google.com/github/chantefucmo/gpt-ai-assistant/blob/main/AI_%E8%87%AA%E5%8B%95%E5%8C%96%E8%A8%AD%E8%A8%88%EF%BC%88PartC%EF%BC%89.ipynb\" target=\"_parent\"><img src=\"https://colab.research.google.com/assets/colab-badge.svg\" alt=\"Open In Colab\"/></a>"
      ]
    },
    {
      "cell_type": "markdown",
      "source": [
        "#AI 自動化設計（PartC）\n"
      ],
      "metadata": {
        "id": "TevSx0nS73HK"
      }
    },
    {
      "cell_type": "markdown",
      "source": [
        "##產出第一個GAS程式\n",
        "```\n",
        "// 定義一個名為helloWorld的函數\n",
        "function helloWorld() {\n",
        "  // 使用Logger物件的log方法來輸出文字\n",
        "  // Logger是GAS提供的一個工具，用於記錄和顯示訊息\n",
        "  Logger.log(\"Hello World\"); // 在日誌中輸出\"Hello World\"\n",
        "}\n",
        "```\n",
        "\n"
      ],
      "metadata": {
        "id": "Ctax3nL377sv"
      }
    },
    {
      "cell_type": "markdown",
      "source": [
        "##將結果寫入試算表中\n",
        "```\n",
        "// 定義一個名為helloWorld的函數\n",
        "function helloWorld() {\n",
        "  // 使用Logger物件的log方法來輸出文字\n",
        "  // Logger是GAS提供的一個工具，用於記錄和顯示訊息\n",
        "  Logger.log(\"Hello World\"); // 在日誌中輸出\"Hello World\"\n",
        "\n",
        "  // 指定 Google 試算表的 ID，此 ID 可在試算表的網址中找到\n",
        "  var spreadsheetId = '您的Google試算表ID'; // 替換成您的試算表ID\n",
        "\n",
        "  // 打開指定的 Google 試算表\n",
        "  var spreadsheet = SpreadsheetApp.openById(spreadsheetId); // 通過ID打開試算表\n",
        "\n",
        "  // 獲取試算表中的 \"工作表1\"\n",
        "  var sheet = spreadsheet.getSheetByName('工作表1'); // 獲取名為\"工作表1\"的工作表\n",
        "\n",
        "  // 將 \"Hello World\" 寫入 \"工作表1\" 的 A1 儲存格\n",
        "  sheet.getRange('A1').setValue('Hello World'); // 在A1儲存格中設置值\"Hello World\"\n",
        "}\n",
        "```"
      ],
      "metadata": {
        "id": "Z_BIKn4B84MG"
      }
    },
    {
      "cell_type": "markdown",
      "source": [
        "##每天來張早安圖\n",
        "```\n",
        "var images = [\n",
        "  'https://drive.google.com/uc?export=view&id=1N59hZgy7K59xSfNIKVkpg2PRMMmEzw3u',\n",
        "  'https://drive.google.com/uc?export=view&id=1kIHVIonMAON26a2cXnimGTSpowrm-lJ0',\n",
        "  'https://drive.google.com/uc?export=view&id=1tdAC_eLxMux1oOYQ8bHJbowIzraGqlGv',\n",
        "  'https://drive.google.com/uc?export=view&id=1P4MH3YAc5wB2q-Ff2X1BO5_410plmohE',\n",
        "  'https://drive.google.com/uc?export=view&id=1zJFx1pqiDOS1VrP2zKHvOFVVmWPdc4HW',\n",
        "  'https://drive.google.com/uc?export=view&id=1H67NxMMvDCjEbptHVQjERgr6hLEbBfLB'\n",
        "]; // 圖片的網址列表\n",
        "var phrases = [\n",
        "  '今日是新的開始，讓我們充滿希望地迎接它！',\n",
        "  '每一天都是一次新的機會，不要放棄！',\n",
        "  '保持積極，你會驚喜地發現生活的美好！',\n",
        "  '笑容是最好的良藥，讓它照亮你的一天！',\n",
        "  '相信自己，你比你想象的還要強大！',\n",
        "  '擁抱挑戰，享受生活的每一刻！'\n",
        "]; // 每日話語列表\n",
        "// 定義主要函數，用於發送通知\n",
        "function sendDailyMessage() {\n",
        "  var image = getRandomItem(images); // 從圖片列表中隨機選擇一個\n",
        "  var phrase = getRandomItem(phrases); // 從話語列表中隨機選擇一個\n",
        "\n",
        "  sendToLineNotify(phrase); // 首先發送文字消息\n",
        "  Utilities.sleep(1000); // 等待一秒鐘\n",
        "  sendToLineNotify(image); // 然後發送圖片消息\n",
        "}\n",
        "\n",
        "// 隨機選擇列表中的一個項目的函數\n",
        "function getRandomItem(list) {\n",
        "  return list[Math.floor(Math.random() * list.length)]; // 隨機選擇一個項目\n",
        "}\n",
        "\n",
        "// 將消息發送到 Line Notify 的函數\n",
        "function sendToLineNotify(message) {\n",
        "  var token = '您的 LINE Notify 權杖'; // 替換成您的 LINE Notify 權杖\n",
        "  var options = {\n",
        "    'method': 'post',\n",
        "    'headers': {\n",
        "      'Authorization': 'Bearer ' + token\n",
        "    },\n",
        "    'payload': {\n",
        "      'message': message\n",
        "    }\n",
        "  };\n",
        "\n",
        "  UrlFetchApp.fetch('https://notify-api.line.me/api/notify', options); // 發送請求到 LINE Notify\n",
        "}\n",
        "\n",
        "```"
      ],
      "metadata": {
        "id": "Zlg9asV1G5L1"
      }
    }
  ]
}